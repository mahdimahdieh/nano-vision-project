{
 "cells": [
  {
   "cell_type": "code",
   "id": "initial_id",
   "metadata": {
    "collapsed": true,
    "ExecuteTime": {
     "end_time": "2025-07-05T11:42:16.236877Z",
     "start_time": "2025-07-05T11:42:16.018321Z"
    }
   },
   "source": [
    "import cv2\n",
    "\n",
    "img = cv2.imread('../assets/images/eagle/eagle.jpg')"
   ],
   "outputs": [],
   "execution_count": 2
  },
  {
   "metadata": {
    "ExecuteTime": {
     "end_time": "2025-07-05T11:42:20.741202Z",
     "start_time": "2025-07-05T11:42:16.616611Z"
    }
   },
   "cell_type": "code",
   "source": [
    "def show_image(image, title='Image'):\n",
    "    cv2.imshow(title, image)\n",
    "    cv2.waitKey(0)\n",
    "    cv2.destroyAllWindows()\n",
    "\n",
    "show_image(img, 'original')"
   ],
   "id": "d31be0cf066f98df",
   "outputs": [],
   "execution_count": 3
  },
  {
   "metadata": {
    "ExecuteTime": {
     "end_time": "2025-07-05T11:42:21.194139Z",
     "start_time": "2025-07-05T11:42:20.749677Z"
    }
   },
   "cell_type": "code",
   "source": [
    "resized = cv2.resize(img, (250, 250))\n",
    "show_image(resized, 'resized')"
   ],
   "id": "862835f707dd448a",
   "outputs": [],
   "execution_count": 4
  },
  {
   "metadata": {
    "ExecuteTime": {
     "end_time": "2025-07-05T11:42:21.544188Z",
     "start_time": "2025-07-05T11:42:21.210585Z"
    }
   },
   "cell_type": "code",
   "source": [
    "gray_image = cv2.cvtColor(img, cv2.COLOR_BGR2GRAY)\n",
    "show_image(gray_image, 'gray')"
   ],
   "id": "d4b79277094d1e6a",
   "outputs": [],
   "execution_count": 5
  },
  {
   "metadata": {
    "ExecuteTime": {
     "end_time": "2025-07-05T11:42:21.913663Z",
     "start_time": "2025-07-05T11:42:21.561003Z"
    }
   },
   "cell_type": "code",
   "source": [
    "lined = img.copy()\n",
    "cv2.line(lined, (100, 10), (50, 200), (255, 200, 0), 2)\n",
    "show_image(lined, 'lined')"
   ],
   "id": "4280a7fc90053477",
   "outputs": [],
   "execution_count": 6
  },
  {
   "metadata": {
    "ExecuteTime": {
     "end_time": "2025-07-05T11:42:28.452300Z",
     "start_time": "2025-07-05T11:42:27.395704Z"
    }
   },
   "cell_type": "code",
   "source": [
    "circled = img.copy()\n",
    "cv2.circle(circled, (100, 100), 50, (0, 200, 250), 3)\n",
    "show_image(circled, 'circle')"
   ],
   "id": "2290822fafdce96f",
   "outputs": [],
   "execution_count": 7
  },
  {
   "metadata": {
    "ExecuteTime": {
     "end_time": "2025-07-05T11:44:45.001468Z",
     "start_time": "2025-07-05T11:44:41.277394Z"
    }
   },
   "cell_type": "code",
   "source": [
    "rectangle = img.copy()\n",
    "cv2.rectangle(rectangle, (50, 100), (100, 200), (200, 0, 200), 2)\n",
    "show_image(rectangle, 'rectangle')"
   ],
   "id": "ec57d7c8bd07409e",
   "outputs": [],
   "execution_count": 16
  },
  {
   "metadata": {},
   "cell_type": "markdown",
   "source": "### Face Detection",
   "id": "158a7c127aae1f28"
  },
  {
   "metadata": {
    "ExecuteTime": {
     "end_time": "2025-07-05T11:42:37.411261Z",
     "start_time": "2025-07-05T11:42:35.166839Z"
    }
   },
   "cell_type": "code",
   "source": [
    "face_detection = cv2.CascadeClassifier('../assets/neural_network/haarcascade_frontalface_default.xml')\n",
    "face = cv2.imread('../assets/images/old_man/old_man.jpg')\n",
    "gray_face = cv2.cvtColor(face, cv2.COLOR_BGR2GRAY)\n",
    "face_detection_result = face_detection.detectMultiScale(gray_face)"
   ],
   "id": "67fe7a065cb64cdd",
   "outputs": [],
   "execution_count": 9
  },
  {
   "metadata": {
    "ExecuteTime": {
     "end_time": "2025-07-05T11:42:43.045676Z",
     "start_time": "2025-07-05T11:42:40.640681Z"
    }
   },
   "cell_type": "code",
   "source": [
    "for (x, y, w, h) in face_detection_result:\n",
    "    cv2.putText(face, 'Face', (x, y - 10), cv2.FONT_HERSHEY_SIMPLEX, 0.5, (255, 0, 0), 2)\n",
    "    cv2.rectangle(face, (x, y), (x + w, y + h), (255, 0, 0), 2)\n",
    "\n",
    "show_image(face, 'face')"
   ],
   "id": "8ac3daf522495667",
   "outputs": [],
   "execution_count": 10
  },
  {
   "metadata": {},
   "cell_type": "markdown",
   "source": "### Changing scale factor",
   "id": "cc8ba4ac36b4b28d"
  },
  {
   "metadata": {
    "ExecuteTime": {
     "end_time": "2025-07-05T11:42:48.504211Z",
     "start_time": "2025-07-05T11:42:45.987210Z"
    }
   },
   "cell_type": "code",
   "source": [
    "face2 = cv2.imread('../assets/images/old_man/old_man.jpg')\n",
    "gray_face2 = cv2.cvtColor(face2, cv2.COLOR_BGR2GRAY)\n",
    "face_detection_result = face_detection.detectMultiScale(gray_face2, 1.2, 4)\n",
    "for (x, y, w, h) in face_detection_result:\n",
    "    cv2.putText(face2, 'Face', (x, y - 10), cv2.FONT_HERSHEY_SIMPLEX, 0.5, (255, 0, 0), 2)\n",
    "    cv2.rectangle(face2, (x, y), (x + w, y + h), (255, 0, 0), 2)\n",
    "\n",
    "show_image(face2, 'face')"
   ],
   "id": "90179962bb341d76",
   "outputs": [],
   "execution_count": 11
  },
  {
   "metadata": {},
   "cell_type": "markdown",
   "source": "### Video Capturing",
   "id": "634fc0d6b0e5f082"
  },
  {
   "metadata": {
    "ExecuteTime": {
     "end_time": "2025-07-05T11:43:13.785765Z",
     "start_time": "2025-07-05T11:42:54.372476Z"
    }
   },
   "cell_type": "code",
   "source": [
    "stream = cv2.VideoCapture(0)\n",
    "while True:\n",
    "    try:\n",
    "        _, frame = stream.read()\n",
    "        cv2.imshow('Video', frame)\n",
    "        if cv2.waitKey(10) & 0xFF == ord('q'):\n",
    "            break\n",
    "    except KeyboardInterrupt:\n",
    "        stream.release()\n",
    "        cv2.destroyAllWindows()\n",
    "        break"
   ],
   "id": "e9b4e5c8ac5b0d47",
   "outputs": [],
   "execution_count": 12
  },
  {
   "metadata": {},
   "cell_type": "markdown",
   "source": "### Face recognition",
   "id": "59926609d4ebc641"
  },
  {
   "metadata": {
    "ExecuteTime": {
     "end_time": "2025-07-05T11:43:31.633872Z",
     "start_time": "2025-07-05T11:43:16.547269Z"
    }
   },
   "cell_type": "code",
   "source": [
    "stream = cv2.VideoCapture(0)\n",
    "counter = 0\n",
    "face_detection_result = [(0, 0, 0, 0)]\n",
    "while True:\n",
    "    try:\n",
    "        _, frame = stream.read()\n",
    "        gray_frame = cv2.cvtColor(frame, cv2.COLOR_BGR2GRAY)\n",
    "        face_detection_result = face_detection.detectMultiScale(gray_frame, 1.4, 4)\n",
    "        for (x, y, w, h) in face_detection_result:\n",
    "            cv2.putText(frame, 'Face', (x, y - 10), cv2.FONT_HERSHEY_SIMPLEX, 0.5, (255, 0, 0), 2)\n",
    "            cv2.rectangle(frame, (x, y), (x + w, y + h), (255, 0, 0), 2)\n",
    "        cv2.imshow('Video', frame)\n",
    "        if cv2.waitKey(30) & 0xFF == ord('q'):\n",
    "            break\n",
    "    except KeyboardInterrupt:\n",
    "        stream.release()\n",
    "        cv2.destroyAllWindows()\n",
    "        break"
   ],
   "id": "4c408bb065915b9d",
   "outputs": [],
   "execution_count": 13
  },
  {
   "metadata": {},
   "cell_type": "code",
   "outputs": [],
   "execution_count": null,
   "source": "",
   "id": "1758e2831bc73d93"
  }
 ],
 "metadata": {
  "kernelspec": {
   "display_name": "Python 3",
   "language": "python",
   "name": "python3"
  },
  "language_info": {
   "codemirror_mode": {
    "name": "ipython",
    "version": 2
   },
   "file_extension": ".py",
   "mimetype": "text/x-python",
   "name": "python",
   "nbconvert_exporter": "python",
   "pygments_lexer": "ipython2",
   "version": "2.7.6"
  }
 },
 "nbformat": 4,
 "nbformat_minor": 5
}
